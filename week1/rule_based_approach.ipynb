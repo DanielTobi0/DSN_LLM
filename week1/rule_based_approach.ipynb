{
 "cells": [
  {
   "cell_type": "markdown",
   "metadata": {
    "id": "HYUIGBR0nKbS"
   },
   "source": [
    "### Named Entity Recognition (NER) using Rules"
   ]
  },
  {
   "cell_type": "code",
   "execution_count": null,
   "metadata": {
    "colab": {
     "base_uri": "https://localhost:8080/"
    },
    "executionInfo": {
     "elapsed": 26,
     "status": "ok",
     "timestamp": 1743799814271,
     "user": {
      "displayName": "Daniel Tobi",
      "userId": "10779748150936298898"
     },
     "user_tz": -60
    },
    "id": "N_rxBqj6nFlh",
    "outputId": "854ef45c-211d-404b-f808-b8846a10806d"
   },
   "outputs": [
    {
     "data": {
      "text/plain": [
       "{'PERSON': [('President', 'Bola Tinubu')],\n",
       " 'ORG': ['DSN'],\n",
       " 'DATE': ['March 15, 2025']}"
      ]
     },
     "execution_count": 1,
     "metadata": {},
     "output_type": "execute_result"
    }
   ],
   "source": [
    "import re\n",
    "\n",
    "def rule_based_ner(text):\n",
    "    entities = {\"PERSON\": [], \"ORG\": [], \"DATE\": []}\n",
    "\n",
    "    person_pattern = re.compile(r\"(President|CEO|Dr\\.|Mr\\.|Ms\\.) ([A-Z][a-z]+ [A-Z][a-z]+)\")\n",
    "    entities[\"PERSON\"] += person_pattern.findall(text)\n",
    "\n",
    "    org_pattern = re.compile(r\"\\b(DSN|DSN_LAGOS)\\b\")\n",
    "    entities[\"ORG\"] += org_pattern.findall(text)\n",
    "\n",
    "    date_pattern = re.compile(r\"\\b([A-Z][a-z]+ \\d{1,2}, \\d{4})\\b\")\n",
    "    entities[\"DATE\"] += date_pattern.findall(text)\n",
    "\n",
    "    return entities\n",
    "\n",
    "text = \"President Bola Tinubu visited DSN on March 15, 2025.\"\n",
    "rule_based_ner(text)"
   ]
  },
  {
   "cell_type": "markdown",
   "metadata": {
    "id": "n49MZgiyn7BW"
   },
   "source": [
    "Text Classification (keyword-based)"
   ]
  },
  {
   "cell_type": "code",
   "execution_count": null,
   "metadata": {
    "colab": {
     "base_uri": "https://localhost:8080/",
     "height": 35
    },
    "executionInfo": {
     "elapsed": 29,
     "status": "ok",
     "timestamp": 1743431687001,
     "user": {
      "displayName": "Daniel Tobi",
      "userId": "10779748150936298898"
     },
     "user_tz": -60
    },
    "id": "-cyMDhUfnfS9",
    "outputId": "d0304b11-3555-492e-d2e2-b1aef75d8ff3"
   },
   "outputs": [
    {
     "data": {
      "application/vnd.google.colaboratory.intrinsic+json": {
       "type": "string"
      },
      "text/plain": [
       "'Business'"
      ]
     },
     "execution_count": 8,
     "metadata": {},
     "output_type": "execute_result"
    }
   ],
   "source": [
    "def rule_based_classification(text):\n",
    "    rules = {\n",
    "        \"Business\": [\"buy\", \"sale\", \"discount\", \"offer\"],\n",
    "        \"Technology\": [\"software\", \"AI\", \"machine learning\", \"robot\"],\n",
    "        \"Sports\": [\"football\", \"basketball\", \"Olympics\", \"goal\"]\n",
    "    }\n",
    "\n",
    "    for category, keywords in rules.items():\n",
    "        for keyword in keywords:\n",
    "            if keyword.lower() in text.lower():\n",
    "                return category\n",
    "    return \"Unknown\"\n",
    "\n",
    "text = \"Huge discounts available on latest software products!\"\n",
    "rule_based_classification(text)"
   ]
  },
  {
   "cell_type": "markdown",
   "metadata": {
    "id": "0F29QDCpoJR2"
   },
   "source": [
    "Information Extraction"
   ]
  },
  {
   "cell_type": "code",
   "execution_count": null,
   "metadata": {
    "colab": {
     "base_uri": "https://localhost:8080/"
    },
    "executionInfo": {
     "elapsed": 7,
     "status": "ok",
     "timestamp": 1743431825884,
     "user": {
      "displayName": "Daniel Tobi",
      "userId": "10779748150936298898"
     },
     "user_tz": -60
    },
    "id": "qWFzsufZoFls",
    "outputId": "1c0bc380-fa0b-4961-a0df-12a2112a95e0"
   },
   "outputs": [
    {
     "data": {
      "text/plain": [
       "{'DATE': ['4/04/2025'], 'LOCATION': ['Virtually']}"
      ]
     },
     "execution_count": 15,
     "metadata": {},
     "output_type": "execute_result"
    }
   ],
   "source": [
    "def extract_dates_and_locations(text):\n",
    "    extracted = {\"DATE\": [], \"LOCATION\": []}\n",
    "\n",
    "    # date extraction\n",
    "    date_pattern = re.compile(r\"\\b\\d{1,2}/\\d{1,2}/\\d{4}\\b|\\b[A-Z][a-z]+ \\d{1,2}, \\d{4}\\b\")\n",
    "    extracted[\"DATE\"] += date_pattern.findall(text)\n",
    "\n",
    "    # location extraction\n",
    "    location_pattern = re.compile(r\"holding ([A-Z][a-z]+)\")\n",
    "    extracted[\"LOCATION\"] += location_pattern.findall(text)\n",
    "\n",
    "    return extracted\n",
    "\n",
    "text = \"The meeting is holding Virtually and will be held on 4/04/2025.\"\n",
    "extract_dates_and_locations(text)"
   ]
  },
  {
   "cell_type": "markdown",
   "metadata": {
    "id": "ZI0jE4NLoqKO"
   },
   "source": [
    "Sentiment Analysis (rule-based)"
   ]
  },
  {
   "cell_type": "code",
   "execution_count": null,
   "metadata": {
    "colab": {
     "base_uri": "https://localhost:8080/",
     "height": 35
    },
    "executionInfo": {
     "elapsed": 12,
     "status": "ok",
     "timestamp": 1743431856588,
     "user": {
      "displayName": "Daniel Tobi",
      "userId": "10779748150936298898"
     },
     "user_tz": -60
    },
    "id": "ZNYH5yQ3oPuU",
    "outputId": "b09b057a-7743-4ca0-bd78-9953eb46c91a"
   },
   "outputs": [
    {
     "data": {
      "application/vnd.google.colaboratory.intrinsic+json": {
       "type": "string"
      },
      "text/plain": [
       "'Positive'"
      ]
     },
     "execution_count": 16,
     "metadata": {},
     "output_type": "execute_result"
    }
   ],
   "source": [
    "def rule_based_sentiment(text):\n",
    "    positive_keywords = [\"happy\", \"great\", \"excellent\", \"good\", \"fantastic\"]\n",
    "    negative_keywords = [\"sad\", \"bad\", \"terrible\", \"horrible\", \"angry\"]\n",
    "\n",
    "    text_lower = text.lower()\n",
    "    positive_matches = sum(text_lower.count(word) for word in positive_keywords)\n",
    "    negative_matches = sum(text_lower.count(word) for word in negative_keywords)\n",
    "\n",
    "    if positive_matches > negative_matches:\n",
    "        return \"Positive\"\n",
    "    elif negative_matches > positive_matches:\n",
    "        return \"Negative\"\n",
    "    else:\n",
    "        return \"Neutral\"\n",
    "\n",
    "text = \"I am happy about the excellent results, but the weather is terrible.\"\n",
    "rule_based_sentiment(text)"
   ]
  },
  {
   "cell_type": "markdown",
   "metadata": {
    "id": "ZIO7eXq7oxNq"
   },
   "source": [
    "Spell Checking and Grammer Correction"
   ]
  },
  {
   "cell_type": "code",
   "execution_count": null,
   "metadata": {
    "colab": {
     "base_uri": "https://localhost:8080/",
     "height": 35
    },
    "executionInfo": {
     "elapsed": 12,
     "status": "ok",
     "timestamp": 1743431893691,
     "user": {
      "displayName": "Daniel Tobi",
      "userId": "10779748150936298898"
     },
     "user_tz": -60
    },
    "id": "FLb-MK9lou_P",
    "outputId": "c0f130ad-03d3-4f92-8830-94508f2c66fe"
   },
   "outputs": [
    {
     "data": {
      "application/vnd.google.colaboratory.intrinsic+json": {
       "type": "string"
      },
      "text/plain": [
       "'Please receive the package and confirm.'"
      ]
     },
     "execution_count": 17,
     "metadata": {},
     "output_type": "execute_result"
    }
   ],
   "source": [
    "def rule_based_spell_check(text):\n",
    "    corrections = {\"teh\": \"the\", \"adn\": \"and\", \"recieve\": \"receive\"}\n",
    "\n",
    "    words = text.split()\n",
    "    corrected_words = [corrections.get(word, word) for word in words]\n",
    "\n",
    "    return \" \".join(corrected_words)\n",
    "\n",
    "text = \"Please recieve teh package adn confirm.\"\n",
    "rule_based_spell_check(text)"
   ]
  },
  {
   "cell_type": "markdown",
   "metadata": {
    "id": "7j2A_6M2qFUs"
   },
   "source": [
    "### Limitations"
   ]
  },
  {
   "cell_type": "markdown",
   "metadata": {
    "id": "sIobuMcLpBnq"
   },
   "source": [
    "Rule-based systems become challenging to scale and maintain when language complexity grows.\n",
    "\n",
    "May miss entities if rules are overly rigid or too simple."
   ]
  },
  {
   "cell_type": "code",
   "execution_count": null,
   "metadata": {
    "id": "xQ3zG_uIo4DW"
   },
   "outputs": [],
   "source": []
  }
 ],
 "metadata": {
  "colab": {
   "authorship_tag": "ABX9TyOGHeGyHMQC4QJ8ImbDJ+an",
   "provenance": []
  },
  "kernelspec": {
   "display_name": "Python 3",
   "name": "python3"
  },
  "language_info": {
   "name": "python"
  }
 },
 "nbformat": 4,
 "nbformat_minor": 0
}
