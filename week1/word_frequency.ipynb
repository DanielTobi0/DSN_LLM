{
 "cells": [
  {
   "cell_type": "markdown",
   "metadata": {
    "id": "5POKTExiJ0Eq"
   },
   "source": [
    "# Word Frequency\n",
    "\n",
    "Word frequency analysis simply counts how many times each word appears in a given text or collection of texts (corpus).\n",
    "\n",
    "\n",
    "## Common Approaches to Represent Word Frequency\n",
    "\n",
    "\n",
    "- **Bag of Words (BoW)**: Counts word frequency, ignores grammar and order.\n",
    "- **Term Frequency–Inverse Document Frequency (TF-IDF)**: Adjusts for common words across documents.\n",
    "- **CountVectorizer (from sklearn)**: Automates BoW.\n",
    "- **TF-IDF Veectorizer (from sklearn)**:\n",
    "Automates TF-IDF.\n",
    "\n"
   ]
  },
  {
   "cell_type": "markdown",
   "metadata": {
    "id": "izRggtq9LwAg"
   },
   "source": [
    "### Bag of Words (BoW):"
   ]
  },
  {
   "cell_type": "code",
   "execution_count": 2,
   "metadata": {
    "colab": {
     "base_uri": "https://localhost:8080/"
    },
    "executionInfo": {
     "elapsed": 33,
     "status": "ok",
     "timestamp": 1743760456655,
     "user": {
      "displayName": "Daniel Tobi",
      "userId": "10779748150936298898"
     },
     "user_tz": -60
    },
    "id": "REpJAKiyJ8mq",
    "outputId": "806945e1-7e63-4e61-9c20-3d32e3b8851f"
   },
   "outputs": [
    {
     "data": {
      "text/plain": [
       "Counter({'machine': 2, 'learning': 3, 'is': 2, 'fun': 2, 'very': 1})"
      ]
     },
     "execution_count": 2,
     "metadata": {},
     "output_type": "execute_result"
    }
   ],
   "source": [
    "from collections import Counter\n",
    "import re\n",
    "\n",
    "def word_frequency(text):\n",
    "    words = re.findall(r'\\b\\w+\\b', text.lower())\n",
    "    return Counter(words)\n",
    "\n",
    "text = \"Machine learning is fun. Learning machine learning is very fun!\"\n",
    "freq = word_frequency(text)\n",
    "freq"
   ]
  },
  {
   "cell_type": "code",
   "execution_count": 3,
   "metadata": {
    "colab": {
     "base_uri": "https://localhost:8080/"
    },
    "executionInfo": {
     "elapsed": 143,
     "status": "ok",
     "timestamp": 1743760456800,
     "user": {
      "displayName": "Daniel Tobi",
      "userId": "10779748150936298898"
     },
     "user_tz": -60
    },
    "id": "l5QF8GLXJ8hU",
    "outputId": "b33cf01b-4d9a-4d26-cd33-0edd33f4549d"
   },
   "outputs": [
    {
     "name": "stdout",
     "output_type": "stream",
     "text": [
      "Vocabulary: {'machine': 4, 'learning': 2, 'is': 1, 'fun': 0, 'love': 3, 'powerful': 5}\n",
      "Feature Matrix:\n",
      " [[1 1 1 0 1 0]\n",
      " [0 0 2 1 1 0]\n",
      " [0 1 1 0 1 1]]\n"
     ]
    }
   ],
   "source": [
    "from sklearn.feature_extraction.text import CountVectorizer\n",
    "\n",
    "corpus = [\n",
    "    \"Machine learning is fun\",\n",
    "    \"I love learning machine learning\",\n",
    "    \"Machine learning is powerful\"\n",
    "]\n",
    "\n",
    "vectorizer = CountVectorizer()\n",
    "X = vectorizer.fit_transform(corpus)\n",
    "\n",
    "print(\"Vocabulary:\", vectorizer.vocabulary_)\n",
    "print(\"Feature Matrix:\\n\", X.toarray())"
   ]
  },
  {
   "cell_type": "markdown",
   "metadata": {
    "id": "iUgl4kaNYC6v"
   },
   "source": [
    "## TF-IDF\n",
    "\n",
    "the goal of this is to put more emphasis on less common words"
   ]
  },
  {
   "cell_type": "code",
   "execution_count": 4,
   "metadata": {
    "colab": {
     "base_uri": "https://localhost:8080/"
    },
    "executionInfo": {
     "elapsed": 6,
     "status": "ok",
     "timestamp": 1743760456802,
     "user": {
      "displayName": "Daniel Tobi",
      "userId": "10779748150936298898"
     },
     "user_tz": -60
    },
    "id": "NTTZ7QzqJr0_",
    "outputId": "d2bba9e3-0793-462d-a273-51807badeeb9"
   },
   "outputs": [
    {
     "name": "stdout",
     "output_type": "stream",
     "text": [
      "Vocabulary: {'machine': 4, 'learning': 2, 'is': 1, 'fun': 0, 'love': 3, 'powerful': 5}\n",
      "TF-IDF Matrix:\n",
      " [[0.66283998 0.50410689 0.39148397 0.         0.39148397 0.        ]\n",
      " [0.         0.         0.71307037 0.60366655 0.35653519 0.        ]\n",
      " [0.         0.50410689 0.39148397 0.         0.39148397 0.66283998]]\n"
     ]
    }
   ],
   "source": [
    "from sklearn.feature_extraction.text import TfidfVectorizer\n",
    "\n",
    "vectorizer = TfidfVectorizer()\n",
    "X = vectorizer.fit_transform(corpus)\n",
    "\n",
    "print(\"Vocabulary:\", vectorizer.vocabulary_)\n",
    "print(\"TF-IDF Matrix:\\n\", X.toarray())"
   ]
  },
  {
   "cell_type": "markdown",
   "metadata": {
    "id": "Aq4gqKhvJoTh"
   },
   "source": [
    "Zipf's law"
   ]
  },
  {
   "cell_type": "code",
   "execution_count": 5,
   "metadata": {
    "executionInfo": {
     "elapsed": 2,
     "status": "ok",
     "timestamp": 1743760456805,
     "user": {
      "displayName": "Daniel Tobi",
      "userId": "10779748150936298898"
     },
     "user_tz": -60
    },
    "id": "DeBsx7jVYJRT"
   },
   "outputs": [],
   "source": [
    "# https://www.youtube.com/watch?v=zLMEnNbdh4Q"
   ]
  },
  {
   "cell_type": "code",
   "execution_count": 5,
   "metadata": {
    "executionInfo": {
     "elapsed": 110,
     "status": "ok",
     "timestamp": 1743760456918,
     "user": {
      "displayName": "Daniel Tobi",
      "userId": "10779748150936298898"
     },
     "user_tz": -60
    },
    "id": "Id7l1vHWY8rt"
   },
   "outputs": [],
   "source": []
  }
 ],
 "metadata": {
  "colab": {
   "authorship_tag": "ABX9TyO6SyQZIr6nK2plMVR+OhNV",
   "provenance": []
  },
  "kernelspec": {
   "display_name": "Python 3",
   "name": "python3"
  },
  "language_info": {
   "name": "python"
  }
 },
 "nbformat": 4,
 "nbformat_minor": 0
}
